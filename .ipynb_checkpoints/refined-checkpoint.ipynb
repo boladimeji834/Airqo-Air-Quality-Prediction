{
 "cells": [
  {
   "cell_type": "code",
   "execution_count": 1,
   "id": "2c2c5e4d-c6ec-43ee-ba14-c7e3c611c942",
   "metadata": {},
   "outputs": [],
   "source": [
    "import pandas as pd \n",
    "import numpy as np \n",
    "import matplotlib.pyplot as plt \n",
    "\n",
    "from sklearn.impute import SimpleImputer\n",
    "from sklearn.metrics import accuracy_score, mean_absolute_error, mean_squared_error, make_scorer\n",
    "from sklearn.preprocessing import OneHotEncoder, MaxAbsScaler, LabelEncoder, MinMaxScaler\n",
    "from sklearn.pipeline import make_pipeline, Pipeline\n",
    "from category_encoders import TargetEncoder\n",
    "from sklearn.model_selection import train_test_split\n",
    "\n",
    "# import the model model classes \n",
    "from sklearn.linear_model import Ridge, LinearRegression, Lasso, ElasticNet\n",
    "from sklearn.svm import SVR\n",
    "from sklearn.ensemble import GradientBoostingRegressor, RandomForestRegressor\n",
    "from sklearn.tree import DecisionTreeRegressor\n",
    "from lightgbm import LGBMRegressor\n",
    "# import the gridSearch classabs \n",
    "from sklearn.model_selection import GridSearchCV\n",
    "\n",
    "# import the pipeline class \n",
    "from sklearn.compose import ColumnTransformer"
   ]
  },
  {
   "cell_type": "code",
   "execution_count": 2,
   "id": "ad5b991e-1965-4bf9-b011-349509c7196b",
   "metadata": {},
   "outputs": [],
   "source": [
    "train_df = pd.read_csv(\"datasets/Train.csv\")\n",
    "test_df = pd.read_csv(\"datasets/Test.csv\")\n",
    "submit_df = pd.read_csv(\"datasets/SampleSubmission.csv\")"
   ]
  },
  {
   "cell_type": "code",
   "execution_count": 3,
   "id": "5b5e1ef7-abe7-41de-a629-fd11124bb430",
   "metadata": {},
   "outputs": [],
   "source": [
    "train_df[\"train\"] = 1\n",
    "test_df[\"train\"] = 0"
   ]
  },
  {
   "cell_type": "code",
   "execution_count": 4,
   "id": "d773c1eb-dbad-40a7-b548-f6e485e564f7",
   "metadata": {},
   "outputs": [],
   "source": [
    "def wrangle(frames): \n",
    "    df = pd.concat(frames, axis=0, ignore_index=True)\n",
    "\n",
    "    # remove columns with more than 40 % of null values \n",
    "    bad_cols = []\n",
    "    for i in df.columns: \n",
    "        if (df[i].isnull().sum() / len(df) * 100) > 40: \n",
    "            bad_cols.append(i)\n",
    "    df = df.drop(columns=bad_cols)\n",
    "    df = df.set_index(\"id\")\n",
    "    \n",
    "    \n",
    "    return df"
   ]
  },
  {
   "cell_type": "code",
   "execution_count": 5,
   "id": "14917fff-9189-4a84-bdb6-4e91ee6e0bf2",
   "metadata": {},
   "outputs": [],
   "source": [
    "df = wrangle([train_df, test_df])"
   ]
  },
  {
   "cell_type": "code",
   "execution_count": 6,
   "id": "82c99656-a085-4b72-bba9-5be3ba7c9312",
   "metadata": {},
   "outputs": [],
   "source": [
    "# get numeric_cols and cat_cols \n",
    "numeric_cols = df.select_dtypes(np.number).columns.tolist()[:-2]\n",
    "cat_cols = df.select_dtypes(\"object\").columns.tolist()"
   ]
  },
  {
   "cell_type": "code",
   "execution_count": 7,
   "id": "8d35657e-a173-4160-b670-cffa0f516451",
   "metadata": {},
   "outputs": [
    {
     "data": {
      "text/plain": [
       "['site_latitude',\n",
       " 'site_longitude',\n",
       " 'hour',\n",
       " 'month',\n",
       " 'uvaerosolindex_absorbing_aerosol_index',\n",
       " 'uvaerosolindex_sensor_altitude',\n",
       " 'uvaerosolindex_sensor_azimuth_angle',\n",
       " 'uvaerosolindex_sensor_zenith_angle',\n",
       " 'uvaerosolindex_solar_azimuth_angle',\n",
       " 'uvaerosolindex_solar_zenith_angle',\n",
       " 'ozone_o3_column_number_density',\n",
       " 'ozone_o3_column_number_density_amf',\n",
       " 'ozone_o3_slant_column_number_density',\n",
       " 'ozone_o3_effective_temperature',\n",
       " 'ozone_cloud_fraction',\n",
       " 'ozone_sensor_azimuth_angle',\n",
       " 'ozone_sensor_zenith_angle',\n",
       " 'ozone_solar_azimuth_angle',\n",
       " 'ozone_solar_zenith_angle']"
      ]
     },
     "execution_count": 7,
     "metadata": {},
     "output_type": "execute_result"
    }
   ],
   "source": [
    "numeric_cols"
   ]
  },
  {
   "cell_type": "code",
   "execution_count": 8,
   "id": "ffa50dda-2703-43f9-969c-cb129e029700",
   "metadata": {},
   "outputs": [
    {
     "data": {
      "text/plain": [
       "site_id    108\n",
       "city         8\n",
       "country      6\n",
       "date       327\n",
       "dtype: int64"
      ]
     },
     "execution_count": 8,
     "metadata": {},
     "output_type": "execute_result"
    }
   ],
   "source": [
    "df[cat_cols].nunique()"
   ]
  },
  {
   "cell_type": "code",
   "execution_count": null,
   "id": "567d5b1d-5a19-4d24-95b6-74550bc771bc",
   "metadata": {},
   "outputs": [],
   "source": []
  },
  {
   "cell_type": "code",
   "execution_count": 9,
   "id": "3e9361fa-bd0b-4787-b09f-1e266d56fd17",
   "metadata": {},
   "outputs": [
    {
     "data": {
      "text/plain": [
       "site_id                                    object\n",
       "site_latitude                             float64\n",
       "site_longitude                            float64\n",
       "city                                       object\n",
       "country                                    object\n",
       "date                                       object\n",
       "hour                                        int64\n",
       "month                                     float64\n",
       "uvaerosolindex_absorbing_aerosol_index    float64\n",
       "uvaerosolindex_sensor_altitude            float64\n",
       "uvaerosolindex_sensor_azimuth_angle       float64\n",
       "uvaerosolindex_sensor_zenith_angle        float64\n",
       "uvaerosolindex_solar_azimuth_angle        float64\n",
       "uvaerosolindex_solar_zenith_angle         float64\n",
       "ozone_o3_column_number_density            float64\n",
       "ozone_o3_column_number_density_amf        float64\n",
       "ozone_o3_slant_column_number_density      float64\n",
       "ozone_o3_effective_temperature            float64\n",
       "ozone_cloud_fraction                      float64\n",
       "ozone_sensor_azimuth_angle                float64\n",
       "ozone_sensor_zenith_angle                 float64\n",
       "ozone_solar_azimuth_angle                 float64\n",
       "ozone_solar_zenith_angle                  float64\n",
       "pm2_5                                     float64\n",
       "train                                       int64\n",
       "dtype: object"
      ]
     },
     "execution_count": 9,
     "metadata": {},
     "output_type": "execute_result"
    }
   ],
   "source": [
    "df.dtypes"
   ]
  },
  {
   "cell_type": "code",
   "execution_count": 10,
   "id": "2f44b3aa-615e-40c3-a1eb-c8af66b5d139",
   "metadata": {},
   "outputs": [
    {
     "data": {
      "image/png": "[encoded data removed]",
      "text/plain": [
       "<Figure size 640x480 with 1 Axes>"
      ]
     },
     "metadata": {},
     "output_type": "display_data"
    }
   ],
   "source": [
    "# now i have encoded the columns \n",
    "# let's do some visualisations \n",
    "\n",
    "plt.scatter(data=df, x=\"month\", y=\"pm2_5\");"
   ]
  },
  {
   "cell_type": "code",
   "execution_count": 11,
   "id": "80544aa9-8b83-4c2e-aa16-a9b862456a25",
   "metadata": {},
   "outputs": [
    {
     "data": {
      "image/png": "[encoded data removed]",
      "text/plain": [
       "<Figure size 640x480 with 1 Axes>"
      ]
     },
     "metadata": {},
     "output_type": "display_data"
    }
   ],
   "source": [
    "df.groupby(\"month\")[\"pm2_5\"].mean().plot(kind=\"barh\")\n",
    "plt.title(\"The average pm2_5 reading per month\")\n",
    "plt.xlabel(\"Average pm2_5\")\n",
    "plt.ylabel(\"Months\");"
   ]
  },
  {
   "cell_type": "markdown",
   "id": "192153f6-f89c-4bff-89d7-517350ef4eaf",
   "metadata": {},
   "source": [
    "The above chart shows that month will be a good feature in predicting for the pm2_5"
   ]
  },
  {
   "cell_type": "code",
   "execution_count": 12,
   "id": "faea42ba-8c8b-4b10-8580-a033c2cbd6e0",
   "metadata": {},
   "outputs": [
    {
     "data": {
      "text/plain": [
       "<Axes: ylabel='date'>"
      ]
     },
     "execution_count": 12,
     "metadata": {},
     "output_type": "execute_result"
    },
    {
     "data": {
      "image/png": "[encoded data removed]",
      "text/plain": [
       "<Figure size 640x480 with 1 Axes>"
      ]
     },
     "metadata": {},
     "output_type": "display_data"
    }
   ],
   "source": [
    "# let's check the date column \n",
    "df.groupby(\"date\")[\"pm2_5\"].mean().sort_values(ascending=False).head(10).plot(kind=\"barh\")"
   ]
  },
  {
   "cell_type": "markdown",
   "id": "553e23b5-5dd9-471d-b0d0-c99814475670",
   "metadata": {},
   "source": [
    "Date also promised to be useful in predicting the pm2_5 reading "
   ]
  },
  {
   "cell_type": "code",
   "execution_count": 13,
   "id": "75b0fddb-877c-443f-a5bf-9be2ce2d99cb",
   "metadata": {},
   "outputs": [
    {
     "data": {
      "text/plain": [
       "<Axes: ylabel='city'>"
      ]
     },
     "execution_count": 13,
     "metadata": {},
     "output_type": "execute_result"
    },
    {
     "data": {
      "image/png": "[encoded data removed]",
      "text/plain": [
       "<Figure size 640x480 with 1 Axes>"
      ]
     },
     "metadata": {},
     "output_type": "display_data"
    }
   ],
   "source": [
    "df.groupby(\"city\")[\"pm2_5\"].mean().sort_values(ascending=False).head(10).plot(kind=\"barh\")"
   ]
  },
  {
   "cell_type": "code",
   "execution_count": 14,
   "id": "3d694ea9-3fe1-4f46-946c-6d7bb9393487",
   "metadata": {},
   "outputs": [],
   "source": [
    "# split the data into the training set and the test set \n",
    "\n",
    "train = df[df[\"train\"] == 1]\n",
    "test = df[df[\"train\"] == 0]\n",
    "\n",
    "train = train.drop(columns=\"train\")\n",
    "test = test.drop(columns=[\"train\", \"pm2_5\"])"
   ]
  },
  {
   "cell_type": "code",
   "execution_count": 15,
   "id": "23badf3a-0efd-431c-a655-b974c39a9a27",
   "metadata": {},
   "outputs": [
    {
     "data": {
      "text/plain": [
       "23"
      ]
     },
     "execution_count": 15,
     "metadata": {},
     "output_type": "execute_result"
    }
   ],
   "source": [
    "# create the features  and the target \n",
    "features = numeric_cols + cat_cols\n",
    "target = \"pm2_5\"\n",
    "len(features)"
   ]
  },
  {
   "cell_type": "code",
   "execution_count": null,
   "id": "4b62decf-4954-4137-a321-b797ab6ce67a",
   "metadata": {},
   "outputs": [],
   "source": []
  },
  {
   "cell_type": "code",
   "execution_count": 16,
   "id": "f580f86a-2b2d-493c-affa-20d67d518280",
   "metadata": {},
   "outputs": [],
   "source": [
    "# this does not work as expected so i need to use target encoding "
   ]
  },
  {
   "cell_type": "code",
   "execution_count": 17,
   "id": "d4b93181-1bee-41ab-ad2f-62b996badbd1",
   "metadata": {},
   "outputs": [],
   "source": [
    "encoder = TargetEncoder()"
   ]
  },
  {
   "cell_type": "code",
   "execution_count": 18,
   "id": "7d924a39-983a-47b7-8178-a98d3df77e50",
   "metadata": {},
   "outputs": [],
   "source": [
    "# Fit and transform on training data\n",
    "train[cat_cols] = encoder.fit_transform(train[cat_cols], train[target])\n",
    "\n",
    "# Transform Test set \n",
    "test[cat_cols] = encoder.transform(test[cat_cols])"
   ]
  },
  {
   "cell_type": "code",
   "execution_count": 19,
   "id": "67217d1e-ce6d-42d3-8832-276e6c659c41",
   "metadata": {},
   "outputs": [
    {
     "data": {
      "text/plain": [
       "23"
      ]
     },
     "execution_count": 19,
     "metadata": {},
     "output_type": "execute_result"
    }
   ],
   "source": [
    "len(train[numeric_cols + cat_cols].select_dtypes(np.number).columns.tolist())"
   ]
  },
  {
   "cell_type": "markdown",
   "id": "fc4f523c-bc2f-4131-80e5-b264209aee9b",
   "metadata": {},
   "source": [
    "Now I have done the target encoding. Let me train the model "
   ]
  },
  {
   "cell_type": "code",
   "execution_count": 20,
   "id": "1995a699-fc92-44ab-b931-b6960908e5d6",
   "metadata": {},
   "outputs": [],
   "source": [
    "# split the training set into two to evaluate the model \n"
   ]
  },
  {
   "cell_type": "code",
   "execution_count": 21,
   "id": "3e5c8f2c-225c-4877-a7d6-86f5b1149a38",
   "metadata": {},
   "outputs": [],
   "source": [
    "model = make_pipeline(\n",
    "    SimpleImputer(strategy=\"most_frequent\"), \n",
    "    MinMaxScaler(), \n",
    "    Ridge()\n",
    ")"
   ]
  },
  {
   "cell_type": "code",
   "execution_count": 22,
   "id": "6f540a8d-8b8c-4813-8e29-ba4d5ee13e1b",
   "metadata": {},
   "outputs": [],
   "source": [
    "train_new, first_test = train_test_split(train, test_size=0.3, random_state=42)"
   ]
  },
  {
   "cell_type": "code",
   "execution_count": 23,
   "id": "ab705f45-b65d-4be1-9004-a1abd67b5bb6",
   "metadata": {},
   "outputs": [
    {
     "data": {
      "text/plain": [
       "((5649, 24), (2422, 24))"
      ]
     },
     "execution_count": 23,
     "metadata": {},
     "output_type": "execute_result"
    }
   ],
   "source": [
    "train_new.shape, first_test.shape"
   ]
  },
  {
   "cell_type": "code",
   "execution_count": 24,
   "id": "777d158e-0173-43f0-8cc1-4451ae067f65",
   "metadata": {},
   "outputs": [],
   "source": [
    "X_train = train_new[numeric_cols + cat_cols]\n",
    "y_train = train_new[target]\n",
    "\n",
    "X_test_1 = first_test[numeric_cols + cat_cols]\n",
    "y_test_1 = first_test[target]\n",
    "\n",
    "X_test_2 = test[numeric_cols + cat_cols]\n"
   ]
  },
  {
   "cell_type": "code",
   "execution_count": 25,
   "id": "955b9d99-2350-462c-9de7-d7f29bd205f1",
   "metadata": {},
   "outputs": [
    {
     "data": {
      "text/html": [
       "<style>#sk-container-id-1 {color: black;}#sk-container-id-1 pre{padding: 0;}#sk-container-id-1 div.sk-toggleable {background-color: white;}#sk-container-id-1 label.sk-toggleable__label {cursor: pointer;display: block;width: 100%;margin-bottom: 0;padding: 0.3em;box-sizing: border-box;text-align: center;}#sk-container-id-1 label.sk-toggleable__label-arrow:before {content: \"▸\";float: left;margin-right: 0.25em;color: #696969;}#sk-container-id-1 label.sk-toggleable__label-arrow:hover:before {color: black;}#sk-container-id-1 div.sk-estimator:hover label.sk-toggleable__label-arrow:before {color: black;}#sk-container-id-1 div.sk-toggleable__content {max-height: 0;max-width: 0;overflow: hidden;text-align: left;background-color: #f0f8ff;}#sk-container-id-1 div.sk-toggleable__content pre {margin: 0.2em;color: black;border-radius: 0.25em;background-color: #f0f8ff;}#sk-container-id-1 input.sk-toggleable__control:checked~div.sk-toggleable__content {max-height: 200px;max-width: 100%;overflow: auto;}#sk-container-id-1 input.sk-toggleable__control:checked~label.sk-toggleable__label-arrow:before {content: \"▾\";}#sk-container-id-1 div.sk-estimator input.sk-toggleable__control:checked~label.sk-toggleable__label {background-color: #d4ebff;}#sk-container-id-1 div.sk-label input.sk-toggleable__control:checked~label.sk-toggleable__label {background-color: #d4ebff;}#sk-container-id-1 input.sk-hidden--visually {border: 0;clip: rect(1px 1px 1px 1px);clip: rect(1px, 1px, 1px, 1px);height: 1px;margin: -1px;overflow: hidden;padding: 0;position: absolute;width: 1px;}#sk-container-id-1 div.sk-estimator {font-family: monospace;background-color: #f0f8ff;border: 1px dotted black;border-radius: 0.25em;box-sizing: border-box;margin-bottom: 0.5em;}#sk-container-id-1 div.sk-estimator:hover {background-color: #d4ebff;}#sk-container-id-1 div.sk-parallel-item::after {content: \"\";width: 100%;border-bottom: 1px solid gray;flex-grow: 1;}#sk-container-id-1 div.sk-label:hover label.sk-toggleable__label {background-color: #d4ebff;}#sk-container-id-1 div.sk-serial::before {content: \"\";position: absolute;border-left: 1px solid gray;box-sizing: border-box;top: 0;bottom: 0;left: 50%;z-index: 0;}#sk-container-id-1 div.sk-serial {display: flex;flex-direction: column;align-items: center;background-color: white;padding-right: 0.2em;padding-left: 0.2em;position: relative;}#sk-container-id-1 div.sk-item {position: relative;z-index: 1;}#sk-container-id-1 div.sk-parallel {display: flex;align-items: stretch;justify-content: center;background-color: white;position: relative;}#sk-container-id-1 div.sk-item::before, #sk-container-id-1 div.sk-parallel-item::before {content: \"\";position: absolute;border-left: 1px solid gray;box-sizing: border-box;top: 0;bottom: 0;left: 50%;z-index: -1;}#sk-container-id-1 div.sk-parallel-item {display: flex;flex-direction: column;z-index: 1;position: relative;background-color: white;}#sk-container-id-1 div.sk-parallel-item:first-child::after {align-self: flex-end;width: 50%;}#sk-container-id-1 div.sk-parallel-item:last-child::after {align-self: flex-start;width: 50%;}#sk-container-id-1 div.sk-parallel-item:only-child::after {width: 0;}#sk-container-id-1 div.sk-dashed-wrapped {border: 1px dashed gray;margin: 0 0.4em 0.5em 0.4em;box-sizing: border-box;padding-bottom: 0.4em;background-color: white;}#sk-container-id-1 div.sk-label label {font-family: monospace;font-weight: bold;display: inline-block;line-height: 1.2em;}#sk-container-id-1 div.sk-label-container {text-align: center;}#sk-container-id-1 div.sk-container {/* jupyter's `normalize.less` sets `[hidden] { display: none; }` but bootstrap.min.css set `[hidden] { display: none !important; }` so we also need the `!important` here to be able to override the default hidden behavior on the sphinx rendered scikit-learn.org. See: https://github.com/scikit-learn/scikit-learn/issues/21755 */display: inline-block !important;position: relative;}#sk-container-id-1 div.sk-text-repr-fallback {display: none;}</style><div id=\"sk-container-id-1\" class=\"sk-top-container\"><div class=\"sk-text-repr-fallback\"><pre>Pipeline(steps=[(&#x27;simpleimputer&#x27;, SimpleImputer(strategy=&#x27;most_frequent&#x27;)),\n",
       "                (&#x27;minmaxscaler&#x27;, MinMaxScaler()), (&#x27;ridge&#x27;, Ridge())])</pre><b>In a Jupyter environment, please rerun this cell to show the HTML representation or trust the notebook. <br />On GitHub, the HTML representation is unable to render, please try loading this page with nbviewer.org.</b></div><div class=\"sk-container\" hidden><div class=\"sk-item sk-dashed-wrapped\"><div class=\"sk-label-container\"><div class=\"sk-label sk-toggleable\"><input class=\"sk-toggleable__control sk-hidden--visually\" id=\"sk-estimator-id-1\" type=\"checkbox\" ><label for=\"sk-estimator-id-1\" class=\"sk-toggleable__label sk-toggleable__label-arrow\">Pipeline</label><div class=\"sk-toggleable__content\"><pre>Pipeline(steps=[(&#x27;simpleimputer&#x27;, SimpleImputer(strategy=&#x27;most_frequent&#x27;)),\n",
       "                (&#x27;minmaxscaler&#x27;, MinMaxScaler()), (&#x27;ridge&#x27;, Ridge())])</pre></div></div></div><div class=\"sk-serial\"><div class=\"sk-item\"><div class=\"sk-estimator sk-toggleable\"><input class=\"sk-toggleable__control sk-hidden--visually\" id=\"sk-estimator-id-2\" type=\"checkbox\" ><label for=\"sk-estimator-id-2\" class=\"sk-toggleable__label sk-toggleable__label-arrow\">SimpleImputer</label><div class=\"sk-toggleable__content\"><pre>SimpleImputer(strategy=&#x27;most_frequent&#x27;)</pre></div></div></div><div class=\"sk-item\"><div class=\"sk-estimator sk-toggleable\"><input class=\"sk-toggleable__control sk-hidden--visually\" id=\"sk-estimator-id-3\" type=\"checkbox\" ><label for=\"sk-estimator-id-3\" class=\"sk-toggleable__label sk-toggleable__label-arrow\">MinMaxScaler</label><div class=\"sk-toggleable__content\"><pre>MinMaxScaler()</pre></div></div></div><div class=\"sk-item\"><div class=\"sk-estimator sk-toggleable\"><input class=\"sk-toggleable__control sk-hidden--visually\" id=\"sk-estimator-id-4\" type=\"checkbox\" ><label for=\"sk-estimator-id-4\" class=\"sk-toggleable__label sk-toggleable__label-arrow\">Ridge</label><div class=\"sk-toggleable__content\"><pre>Ridge()</pre></div></div></div></div></div></div></div>"
      ],
      "text/plain": [
       "Pipeline(steps=[('simpleimputer', SimpleImputer(strategy='most_frequent')),\n",
       "                ('minmaxscaler', MinMaxScaler()), ('ridge', Ridge())])"
      ]
     },
     "execution_count": 25,
     "metadata": {},
     "output_type": "execute_result"
    }
   ],
   "source": [
    "# feeding the training set into the model \n",
    "model.fit(X_train, y_train)"
   ]
  },
  {
   "cell_type": "code",
   "execution_count": 26,
   "id": "1edfd48e-944f-4f60-a9ba-52512c8014a2",
   "metadata": {},
   "outputs": [
    {
     "data": {
      "text/plain": [
       "0.6358213248713663"
      ]
     },
     "execution_count": 26,
     "metadata": {},
     "output_type": "execute_result"
    }
   ],
   "source": [
    "model.score(X_train, y_train)"
   ]
  },
  {
   "cell_type": "code",
   "execution_count": 27,
   "id": "e71333ed-0f6e-457f-8b48-e5475f47c647",
   "metadata": {},
   "outputs": [],
   "source": [
    "preds = model.predict(X_test_1)"
   ]
  },
  {
   "cell_type": "code",
   "execution_count": 28,
   "id": "62577aed-babc-45f5-9bd5-f84654be0186",
   "metadata": {},
   "outputs": [
    {
     "data": {
      "text/plain": [
       "2.79756021933797"
      ]
     },
     "execution_count": 28,
     "metadata": {},
     "output_type": "execute_result"
    }
   ],
   "source": [
    "np.sqrt(mean_absolute_error(model.predict(X_train), y_train))"
   ]
  },
  {
   "cell_type": "code",
   "execution_count": 29,
   "id": "e2d3d92a-2e72-4d5b-8dca-3109aaa4bf88",
   "metadata": {},
   "outputs": [
    {
     "data": {
      "text/plain": [
       "2.790840943518543"
      ]
     },
     "execution_count": 29,
     "metadata": {},
     "output_type": "execute_result"
    }
   ],
   "source": [
    "np.sqrt(mean_absolute_error(preds, y_test_1))"
   ]
  },
  {
   "cell_type": "code",
   "execution_count": 30,
   "id": "b4232607-ca6d-41a1-95d3-4303f49d41da",
   "metadata": {},
   "outputs": [],
   "source": [
    "# now lets make submission predictions \n",
    "sub_preds = model.predict(X_test_2)"
   ]
  },
  {
   "cell_type": "code",
   "execution_count": 31,
   "id": "d0ff1423-b390-4658-84ac-eef6c3543ca2",
   "metadata": {},
   "outputs": [],
   "source": [
    "submit = {\n",
    "    \"id\": X_test_2.index, \n",
    "    \"pm2_5\": sub_preds\n",
    "}"
   ]
  },
  {
   "cell_type": "code",
   "execution_count": 32,
   "id": "172f41a2-a4fd-4b52-b02a-b42565a35bfc",
   "metadata": {},
   "outputs": [],
   "source": [
    "submission_df = pd.DataFrame(submit)"
   ]
  },
  {
   "cell_type": "code",
   "execution_count": 33,
   "id": "c68f2165-3962-4944-a631-fcfc93a1aef0",
   "metadata": {},
   "outputs": [],
   "source": [
    "submission_df.to_csv(\"submission1.csv\", index=False)"
   ]
  },
  {
   "cell_type": "code",
   "execution_count": 34,
   "id": "4dea69fd-cebf-46b1-aa04-b5064cb930ea",
   "metadata": {},
   "outputs": [],
   "source": [
    "models = [\n",
    "    LinearRegression(), \n",
    "    Ridge(), \n",
    "    Lasso(),\n",
    "    ElasticNet(), \n",
    "    SVR(),\n",
    "    DecisionTreeRegressor(), \n",
    "    RandomForestRegressor(), \n",
    "    LGBMRegressor(), \n",
    "    GradientBoostingRegressor()\n",
    "]\n",
    "\n",
    "def get_best_model(models): \n",
    "    \n",
    "    best_model = None\n",
    "    best_mse = float(\"inf\")\n",
    "\n",
    "    for model in models: \n",
    "        model_pipleline = make_pipeline(\n",
    "            \n",
    "          SimpleImputer(strategy=\"most_frequent\"), \n",
    "          MinMaxScaler(), \n",
    "          model \n",
    "        )\n",
    "\n",
    "        model_pipleline.fit(X_train, y_train)\n",
    "\n",
    "        pred_for_model = model_pipleline.predict(X_test_1)\n",
    "        mse = np.sqrt(mean_absolute_error(y_test_1, pred_for_model))\n",
    "\n",
    "        if mse < best_mse: \n",
    "            best_mse = mse \n",
    "            best_model = model \n",
    "    return {\"best_mse\": best_mse, \n",
    "            \"best_model\": best_model\n",
    "           }"
   ]
  },
  {
   "cell_type": "code",
   "execution_count": 35,
   "id": "b1a07d57-58df-4664-bfa6-2e2de3b2b15d",
   "metadata": {},
   "outputs": [
    {
     "name": "stdout",
     "output_type": "stream",
     "text": [
      "[LightGBM] [Info] Auto-choosing col-wise multi-threading, the overhead of testing was 0.000959 seconds.\n",
      "You can set `force_col_wise=true` to remove the overhead.\n",
      "[LightGBM] [Info] Total Bins 4296\n",
      "[LightGBM] [Info] Number of data points in the train set: 5649, number of used features: 23\n",
      "[LightGBM] [Info] Start training from score 24.568926\n"
     ]
    },
    {
     "data": {
      "text/plain": [
       "{'best_mse': 2.4172827399674475, 'best_model': RandomForestRegressor()}"
      ]
     },
     "execution_count": 35,
     "metadata": {},
     "output_type": "execute_result"
    }
   ],
   "source": [
    "get_best_model(models)"
   ]
  },
  {
   "cell_type": "code",
   "execution_count": 47,
   "id": "91308b1e-db1a-4533-b5e2-875f588c334c",
   "metadata": {},
   "outputs": [],
   "source": [
    "# create the parameter grid \n",
    "param_grid = {\n",
    "    'imputer__strategy': ['mean', 'median'],\n",
    "    'rf__n_estimators': [100, 200, 300],\n",
    "    'rf__max_depth': [None, 10, 20],\n",
    "    'rf__min_samples_split': [2, 5, 10],\n",
    "    'rf__min_samples_leaf': [1, 2, 4],\n",
    "    'rf__max_features': ['auto', 'sqrt', 'log2'],\n",
    "    'rf__bootstrap': [True, False],\n",
    "    # 'rf__criterion': ['mse', 'mae']\n",
    "}\n"
   ]
  },
  {
   "cell_type": "code",
   "execution_count": 48,
   "id": "eea02434-f37e-43d4-abe3-ae8669fd9431",
   "metadata": {},
   "outputs": [],
   "source": [
    "def rmse(y_pred, y_true): \n",
    "    return mean_squared_error(y_pred, y_true, squared=False)\n",
    "\n",
    "scoring = make_scorer(\n",
    "    rmse, \n",
    "    greater_is_better=False   \n",
    ")"
   ]
  },
  {
   "cell_type": "code",
   "execution_count": 49,
   "id": "3231757f-5a5f-4a10-ae1e-4836d641341b",
   "metadata": {},
   "outputs": [],
   "source": [
    "pipeline = Pipeline([\n",
    "    (\"imputer\", SimpleImputer(strategy=\"most_frequent\")), \n",
    "    (\"scaler\", MinMaxScaler()), \n",
    "    (\"rf\", RandomForestRegressor())\n",
    "])"
   ]
  },
  {
   "cell_type": "code",
   "execution_count": null,
   "id": "57e1c6ba-b45b-4bf2-a066-9101c04ee4a6",
   "metadata": {},
   "outputs": [],
   "source": [
    "grid_search = GridSearchCV(\n",
    "    pipeline, \n",
    "    param_grid=param_grid, \n",
    "    cv=5, \n",
    "    scoring=scoring, \n",
    "    verbose=1, \n",
    "    n_jobs=-1\n",
    ")"
   ]
  },
  {
   "cell_type": "code",
   "execution_count": null,
   "id": "a43681bf-1840-46e2-abe1-67f89398dfe3",
   "metadata": {},
   "outputs": [],
   "source": [
    "# there is a problem with the ggrid_search because of nan values "
   ]
  },
  {
   "cell_type": "code",
   "execution_count": null,
   "id": "cafe9afe-280d-49e7-9f65-1828c6e34a8b",
   "metadata": {},
   "outputs": [],
   "source": [
    "# the pipeline is not working as expected, Ill need to do manual imputation for the nan values before feeding into ggrid_search"
   ]
  },
  {
   "cell_type": "code",
   "execution_count": null,
   "id": "ad8680c9-2dff-454e-bc70-19c476b32d4b",
   "metadata": {},
   "outputs": [
    {
     "name": "stdout",
     "output_type": "stream",
     "text": [
      "Fitting 5 folds for each of 972 candidates, totalling 4860 fits\n"
     ]
    }
   ],
   "source": [
    "grid_search.fit(X_train, y_train)"
   ]
  }
 ],
 "metadata": {
  "kernelspec": {
   "display_name": "Python 3 (ipykernel)",
   "language": "python",
   "name": "python3"
  },
  "language_info": {
   "codemirror_mode": {
    "name": "ipython",
    "version": 3
   },
   "file_extension": ".py",
   "mimetype": "text/x-python",
   "name": "python",
   "nbconvert_exporter": "python",
   "pygments_lexer": "ipython3",
   "version": "3.11.5"
  }
 },
 "nbformat": 4,
 "nbformat_minor": 5
}
